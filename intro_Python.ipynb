{
  "nbformat": 4,
  "nbformat_minor": 0,
  "metadata": {
    "accelerator": "GPU",
    "colab": {
      "name": "intro Python",
      "provenance": [],
      "private_outputs": true,
      "collapsed_sections": [],
      "include_colab_link": true
    },
    "kernelspec": {
      "display_name": "Python 3",
      "name": "python3"
    }
  },
  "cells": [
    {
      "cell_type": "markdown",
      "metadata": {
        "id": "view-in-github",
        "colab_type": "text"
      },
      "source": [
        "<a href=\"https://colab.research.google.com/github/DonPeregrina/Data-Analysis/blob/master/intro_Python.ipynb\" target=\"_parent\"><img src=\"https://colab.research.google.com/assets/colab-badge.svg\" alt=\"Open In Colab\"/></a>"
      ]
    },
    {
      "cell_type": "markdown",
      "metadata": {
        "colab_type": "text",
        "id": "YHI3vyhv5p85"
      },
      "source": [
        "## **Introducción a Colab y Python**"
      ]
    },
    {
      "cell_type": "markdown",
      "metadata": {
        "colab_type": "text",
        "id": "F8YVA_634OFk"
      },
      "source": [
        "Bienvenido a este Colab donde obtendrás una introducción rápida al lenguaje de programación Python y el entorno utilizado para los ejercicios del curso: Colab.\n",
        "\n",
        "Colab es un entorno de desarrollo de Python que se ejecuta en el navegador usando Google Cloud.\n",
        "\n",
        "Por ejemplo, para imprimir \"Hola Mundo\", simplemente desplace el mouse sobre [ ] y presione el botón de reproducción en la esquina superior izquierda. O presione shift-enter para ejecutar."
      ]
    },
    {
      "cell_type": "code",
      "metadata": {
        "colab_type": "code",
        "id": "bdLopQtuAJi4",
        "colab": {}
      },
      "source": [
        "# No importa esta declaración, por razones de compatibilidad.\n",
        "from __future__ import absolute_import, division, print_function, unicode_literals"
      ],
      "execution_count": 0,
      "outputs": []
    },
    {
      "cell_type": "code",
      "metadata": {
        "colab_type": "code",
        "id": "X9uIpOS2zx7k",
        "colab": {}
      },
      "source": [
        "print(\"Hello World\")"
      ],
      "execution_count": 0,
      "outputs": []
    },
    {
      "cell_type": "markdown",
      "metadata": {
        "colab_type": "text",
        "id": "wwJGmDrQ0EoB"
      },
      "source": [
        "## Funciones, condicionales e iteraciones\n",
        "Vamos a crear una función de Python y llamarla desde un ciclo."
      ]
    },
    {
      "cell_type": "code",
      "metadata": {
        "colab_type": "code",
        "id": "pRllo2HLfXiu",
        "colab": {}
      },
      "source": [
        "def HelloWorldXY(x, y):\n",
        "  if (x < 10):\n",
        "    print(\"Hello World, x was < 10\")\n",
        "  elif (x < 20):\n",
        "    print(\"Hello World, x was >= 10 but < 20\")\n",
        "  else:\n",
        "    print(\"Hello World, x was >= 20\")\n",
        "  return x + y\n",
        "\n",
        "for i in range(8, 25, 5):  # i=8, 13, 18, 23 (start, stop, step)\n",
        "  print(\"--- valor de i: {}\".format(i))\n",
        "  r = HelloWorldXY(i,i)\n",
        "  print(\"Resultado de i: {}\".format(r))"
      ],
      "execution_count": 0,
      "outputs": []
    },
    {
      "cell_type": "code",
      "metadata": {
        "colab_type": "code",
        "id": "lHNmDCh0JpVP",
        "colab": {}
      },
      "source": [
        "print(HelloWorldXY(1,2))"
      ],
      "execution_count": 0,
      "outputs": []
    },
    {
      "cell_type": "markdown",
      "metadata": {
        "colab_type": "text",
        "id": "kiZG7uhm8qCF"
      },
      "source": [
        "Fácil, no?\n",
        "\n",
        "Si desea un ciclo que comienza en 0 a 2 (exclusivo), puede hacer cualquiera de los siguientes"
      ]
    },
    {
      "cell_type": "code",
      "metadata": {
        "colab_type": "code",
        "id": "m8YQN1H41L-Y",
        "colab": {}
      },
      "source": [
        "print(\"Iterate over the items. `range(2)` is like a list [0,1].\")\n",
        "for i in range(2):\n",
        "  print(i)\n",
        "\n",
        "print(\"Iterate over an actual list.\")\n",
        "for i in [0,1]:\n",
        "  print(i)\n",
        "\n",
        "print(\"While works\")\n",
        "i = 0\n",
        "while i < 2:\n",
        "  print(i)\n",
        "  i += 1"
      ],
      "execution_count": 0,
      "outputs": []
    },
    {
      "cell_type": "code",
      "metadata": {
        "colab_type": "code",
        "id": "vIgmFZq4zszl",
        "colab": {}
      },
      "source": [
        "print(\"Python supports standard key words like continue and break\")\n",
        "while True:\n",
        "  print(\"Entered while\")\n",
        "  break"
      ],
      "execution_count": 0,
      "outputs": []
    },
    {
      "cell_type": "markdown",
      "metadata": {
        "colab_type": "text",
        "id": "5QyOUhFw1OUX"
      },
      "source": [
        "## Numpy y listas\n",
        "Python tiene listas integradas en el lenguaje.\n",
        "Sin embargo, utilizaremos una biblioteca llamada numpy para esto.\n",
        "Numpy le brinda muchas funciones de soporte que son útiles al hacer Machine Learning.\n",
        "\n",
        "Aquí, también verá una declaración de importación. Esta declaración hace que todo el paquete numpy esté disponible y podemos acceder a esos símbolos usando la sintaxis abreviada 'np'."
      ]
    },
    {
      "cell_type": "code",
      "metadata": {
        "colab_type": "code",
        "id": "4Dxk4q-jzEy4",
        "colab": {}
      },
      "source": [
        "import numpy as np  # agrega numpy como np\n",
        "\n",
        "# Crea un numpy\n",
        "a = np.array([\"Hello\", \"World\"])\n",
        "a = np.append(a, \"!\")\n",
        "print(\"Current array: {}\".format(a))\n",
        "print(\"Printing each element\")\n",
        "for i in a:\n",
        "  print(i)\n",
        "\n",
        "print(\"\\nPrinting each element and their index\")\n",
        "for i,e in enumerate(a):\n",
        "  print(\"Index: {}, was: {}\".format(i, e))"
      ],
      "execution_count": 0,
      "outputs": []
    },
    {
      "cell_type": "code",
      "metadata": {
        "colab_type": "code",
        "id": "RTa8_9G3LV03",
        "colab": {}
      },
      "source": [
        "print(\"\\nShowing some basic math on arrays\")\n",
        "b = np.array([0,1,4,3,2])\n",
        "print(\"Max: {}\".format(np.max(b)))\n",
        "print(\"Average: {}\".format(np.average(b)))\n",
        "print(\"Max index: {}\".format(np.argmax(b)))"
      ],
      "execution_count": 0,
      "outputs": []
    },
    {
      "cell_type": "code",
      "metadata": {
        "colab_type": "code",
        "id": "9YaGj5n4LW7P",
        "colab": {}
      },
      "source": [
        "print(\"\\nYou can print the type of anything\")\n",
        "print(\"Type of b: {}, type of b[0]: {}\".format(type(b), type(b[0])))"
      ],
      "execution_count": 0,
      "outputs": []
    },
    {
      "cell_type": "code",
      "metadata": {
        "colab_type": "code",
        "id": "V6ilVhi9LXn_",
        "colab": {}
      },
      "source": [
        "print(\"\\nUse numpy to create a [3,3] dimension array with random number\")\n",
        "c = np.random.rand(3, 3)\n",
        "print(c)"
      ],
      "execution_count": 0,
      "outputs": []
    },
    {
      "cell_type": "code",
      "metadata": {
        "colab_type": "code",
        "id": "W_Q-DkFCLYGA",
        "colab": {}
      },
      "source": [
        "print(\"\\nYou can print the dimensions of arrays\")\n",
        "print(\"Shape of a: {}\".format(a.shape))\n",
        "print(\"Shape of b: {}\".format(b.shape))\n",
        "print(\"Shape of c: {}\".format(c.shape))\n",
        "print(\"...Observe, Python uses both [0,1,2] and (0,1,2) to specify lists\")"
      ],
      "execution_count": 0,
      "outputs": []
    },
    {
      "cell_type": "markdown",
      "metadata": {
        "colab_type": "text",
        "id": "7b5jv0ouFREV"
      },
      "source": [
        "Todo el uso de Colab en este curso es completamente gratuito o de pago. Incluso el uso de GPU se proporciona de forma gratuita durante algunas horas de uso todos los días.\n",
        "\n",
        "** Uso de GPU **\n",
        "* Muchos de los ejercicios en el curso se ejecutan más rápidamente usando el tiempo de ejecución de GPU: Tiempo de ejecución | Cambiar tipo de tiempo de ejecución | Acelerador de hardware | GPU\n",
        "\n",
        "** Algunas palabras finales en Colab **\n",
        "* Ejecutas cada celda en orden, puedes editar y volver a ejecutar celdas si quieres\n",
        "* A veces, esto podría tener consecuencias no deseadas. Por ejemplo, si agrega una dimensión a una matriz y ejecuta la celda varias veces, es posible que las celdas posteriores no funcionen. Si encuentra un problema, restablezca su entorno:\n",
        "   * Tiempo de ejecución -> Reiniciar el tiempo de ejecución ... Restablece su shell de Python\n",
        "   * Tiempo de ejecución -> Reiniciar todos los tiempos de ejecución ... Restablecerá la imagen de Colab y lo llevará de vuelta a un entorno 100% limpio\n",
        "* También puede borrar la salida en Colab haciendo: Editar -> Borrar todas las salidas\n",
        "Send feedback\n",
        "History\n",
        "Saved\n",
        "Community\n"
      ]
    }
  ]
}